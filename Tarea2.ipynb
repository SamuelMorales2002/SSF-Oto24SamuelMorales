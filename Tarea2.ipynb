{
  "nbformat": 4,
  "nbformat_minor": 0,
  "metadata": {
    "colab": {
      "provenance": [],
      "authorship_tag": "ABX9TyNRrnT4rtaY+dMuuYr9s7I1",
      "include_colab_link": true
    },
    "kernelspec": {
      "name": "python3",
      "display_name": "Python 3"
    },
    "language_info": {
      "name": "python"
    }
  },
  "cells": [
    {
      "cell_type": "markdown",
      "metadata": {
        "id": "view-in-github",
        "colab_type": "text"
      },
      "source": [
        "<a href=\"https://colab.research.google.com/github/SamuelMorales2002/SSF-Oto24SamuelMorales/blob/main/Tarea2.ipynb\" target=\"_parent\"><img src=\"https://colab.research.google.com/assets/colab-badge.svg\" alt=\"Open In Colab\"/></a>"
      ]
    },
    {
      "cell_type": "code",
      "source": [
        "#1. calculo para seis intervalos\n",
        "import math\n",
        "def func_gaussiana(x):\n",
        "    return 1 / (math.sqrt(2 * math.pi) * math.exp((x ** 2) / 2))\n",
        "intvls = 6\n",
        "inicio = -1\n",
        "fin = 1\n",
        "dx = (fin - inicio) / intvls\n",
        "area_total = 0\n",
        "x_actual = inicio\n",
        "for _ in range(intvls):\n",
        "    area_trap = (func_gaussiana(x_actual) + func_gaussiana(x_actual + dx)) * dx / 2\n",
        "    area_total += area_trap\n",
        "    x_actual += dx\n",
        "\n",
        "print(\"El área aproximada es:\", area_total)\n"
      ],
      "metadata": {
        "colab": {
          "base_uri": "https://localhost:8080/"
        },
        "id": "10GGk7L0eAhZ",
        "outputId": "1b337145-5e9f-4f3e-a948-e1f2d8a33e46"
      },
      "execution_count": 2,
      "outputs": [
        {
          "output_type": "stream",
          "name": "stdout",
          "text": [
            "El área aproximada es: 0.6781918237837556\n"
          ]
        }
      ]
    },
    {
      "cell_type": "code",
      "source": [
        "#1. calculo para quince intervalos\n",
        "import math\n",
        "def func_gaussiana(x):\n",
        "    return 1 / (math.sqrt(2 * math.pi) * math.exp((x ** 2) / 2))\n",
        "n_intv = 15\n",
        "lim_inf = -1\n",
        "lim_sup = 1\n",
        "dx = (lim_sup - lim_inf) / n_intv\n",
        "area_total = 0\n",
        "x_actual = lim_inf\n",
        "for _ in range(n_intv):\n",
        "    area_trap = (func_gaussiana(x_actual) + func_gaussiana(x_actual + dx)) * dx / 2\n",
        "    area_total += area_trap\n",
        "    x_actual += dx\n",
        "\n",
        "print(\"El área aproximada es:\", area_total)\n"
      ],
      "metadata": {
        "colab": {
          "base_uri": "https://localhost:8080/"
        },
        "id": "ymWLXic9ery2",
        "outputId": "b027b24c-3797-41dd-d4cb-a2b72b0bf549"
      },
      "execution_count": 3,
      "outputs": [
        {
          "output_type": "stream",
          "name": "stdout",
          "text": [
            "El área aproximada es: 0.6819721164424768\n"
          ]
        }
      ]
    },
    {
      "cell_type": "code",
      "source": [
        "#1. Método de simpson para 6 particiones\n",
        "import math\n",
        "def func_gaussiana(x):\n",
        "    return 1 / (math.sqrt(2 * math.pi) * math.exp((x ** 2) / 2))\n",
        "def regla_simpson(func, lim_inf, lim_sup):\n",
        "    punto_medio = (lim_inf + lim_sup) / 2\n",
        "    integral = (lim_sup - lim_inf) / 6 * (func(lim_inf) + 4 * func(punto_medio) + func(lim_sup))\n",
        "    return integral\n",
        "lim_inf = -1\n",
        "lim_sup = 1\n",
        "n_intv = 6\n",
        "ancho_intv = (lim_sup - lim_inf) / n_intv\n",
        "area_total = 0\n",
        "x_actual = lim_inf\n",
        "for _ in range(n_intv):\n",
        "    x_siguiente = x_actual + ancho_intv\n",
        "    area = regla_simpson(func_gaussiana, x_actual, x_siguiente)\n",
        "    area_total += area\n",
        "    x_actual = x_siguiente\n",
        "\n",
        "print(\"El área aproximada es:\", area_total)\n"
      ],
      "metadata": {
        "colab": {
          "base_uri": "https://localhost:8080/"
        },
        "id": "IZnNgxAdhb40",
        "outputId": "9af1045f-e858-44fe-a50f-da0a44f14e3d"
      },
      "execution_count": 4,
      "outputs": [
        {
          "output_type": "stream",
          "name": "stdout",
          "text": [
            "El área aproximada es: 0.6826936827174928\n"
          ]
        }
      ]
    },
    {
      "cell_type": "code",
      "source": [
        "#1. Método de simpson para 15 particiones\n",
        "import math\n",
        "def func_gaussiana(x):\n",
        "    return 1 / (math.sqrt(2 * math.pi) * math.exp((x ** 2) / 2))\n",
        "def regla_simpson(func, lim_inf, lim_sup):\n",
        "    punto_medio = (lim_inf + lim_sup) / 2\n",
        "    integral = (lim_sup - lim_inf) / 6 * (func(lim_inf) + 4 * func(punto_medio) + func(lim_sup))\n",
        "    return integral\n",
        "lim_inf = -1\n",
        "lim_sup = 1\n",
        "n_intv = 15\n",
        "ancho_intv = (lim_sup - lim_inf) / n_intv\n",
        "area_total = 0\n",
        "\n",
        "x_actual = lim_inf\n",
        "for _ in range(n_intv):\n",
        "    x_siguiente = x_actual + ancho_intv\n",
        "    area = regla_simpson(func_gaussiana, x_actual, x_siguiente)\n",
        "    area_total += area\n",
        "    x_actual = x_siguiente\n",
        "\n",
        "print(\"El área aproximada es:\", area_total)\n"
      ],
      "metadata": {
        "colab": {
          "base_uri": "https://localhost:8080/"
        },
        "id": "SElx6pr2h_af",
        "outputId": "8cc117f8-0227-4341-b298-e1f727959aa6"
      },
      "execution_count": 5,
      "outputs": [
        {
          "output_type": "stream",
          "name": "stdout",
          "text": [
            "El área aproximada es: 0.6826895985208019\n"
          ]
        }
      ]
    },
    {
      "cell_type": "code",
      "source": [
        "#2. calculo para seis intervalos\n",
        "import math\n",
        "\n",
        "def func(x):\n",
        "    return ((math.exp(x) ** 2) * (math.sin(x))) / (1 + x ** 2)\n",
        "\n",
        "n_intv = 6\n",
        "lim_inf = 0\n",
        "lim_sup = 3\n",
        "ancho_intv = (lim_sup - lim_inf) / n_intv\n",
        "area_total = 0\n",
        "\n",
        "x_actual = lim_inf\n",
        "for _ in range(n_intv):\n",
        "    x_siguiente = x_actual + ancho_intv\n",
        "    area_trap = (func(x_actual) + func(x_siguiente)) * ancho_intv / 2\n",
        "    area_total += area_trap\n",
        "    x_actual = x_siguiente\n",
        "\n",
        "print(\"El área aproximada es:\", area_total)\n"
      ],
      "metadata": {
        "colab": {
          "base_uri": "https://localhost:8080/"
        },
        "id": "ZOe8zm-_iqI9",
        "outputId": "aa7fa69a-80ed-4ec5-cd61-1607dceeee0a"
      },
      "execution_count": 7,
      "outputs": [
        {
          "output_type": "stream",
          "name": "stdout",
          "text": [
            "El área aproximada es: 17.671535041777297\n"
          ]
        }
      ]
    },
    {
      "cell_type": "code",
      "source": [
        "#2. calculo para quince intervalos\n",
        "import math\n",
        "def func(x):\n",
        "    return ((math.exp(x) ** 2) * (math.sin(x))) / (1 + x ** 2)\n",
        "n_intv = 15\n",
        "lim_inf = 0\n",
        "lim_sup = 3\n",
        "ancho_intv = (lim_sup - lim_inf) / n_intv\n",
        "area_total = 0\n",
        "x_actual = lim_inf\n",
        "for _ in range(n_intv):\n",
        "    x_siguiente = x_actual + ancho_intv\n",
        "    area_trap = (func(x_actual) + func(x_siguiente)) * ancho_intv / 2\n",
        "    area_total += area_trap\n",
        "    x_actual = x_siguiente\n",
        "\n",
        "print(\"El área aproximada es:\", area_total)\n"
      ],
      "metadata": {
        "colab": {
          "base_uri": "https://localhost:8080/"
        },
        "id": "AVY5lKIpjZ7x",
        "outputId": "8b641146-0e41-417f-902e-b0fc3db526c0"
      },
      "execution_count": 6,
      "outputs": [
        {
          "output_type": "stream",
          "name": "stdout",
          "text": [
            "El área aproximada es: 18.229710275629373\n"
          ]
        }
      ]
    },
    {
      "cell_type": "code",
      "source": [
        "#2. calculo para veinte intervalos\n",
        "import math\n",
        "def func(x):\n",
        "    return ((math.exp(x) ** 2) * (math.sin(x))) / (1 + x ** 2)\n",
        "n_intv = 20\n",
        "lim_inf = 0\n",
        "lim_sup = 3\n",
        "ancho_intv = (lim_sup - lim_inf) / n_intv\n",
        "area_total = 0\n",
        "x_actual = lim_inf\n",
        "for _ in range(n_intv):\n",
        "    x_siguiente = x_actual + ancho_intv\n",
        "    area_trap = (func(x_actual) + func(x_siguiente)) * ancho_intv / 2\n",
        "    area_total += area_trap\n",
        "    x_actual = x_siguiente\n",
        "\n",
        "print(\"El área aproximada es:\", area_total)"
      ],
      "metadata": {
        "colab": {
          "base_uri": "https://localhost:8080/"
        },
        "id": "IpYT0H5oj_e4",
        "outputId": "aa6a5415-7ea8-44cf-e158-c0677321af43"
      },
      "execution_count": 8,
      "outputs": [
        {
          "output_type": "stream",
          "name": "stdout",
          "text": [
            "El área aproximada es: 18.2774499612085\n"
          ]
        }
      ]
    },
    {
      "cell_type": "code",
      "source": [
        "#2. calculo simpson para seis particiones\n",
        "import math\n",
        "def func(x):\n",
        "    return ((math.exp(x) ** 2) * (math.sin(x))) / (1 + x ** 2)\n",
        "\n",
        "def regla_simpson(func, lim_inf, lim_sup):\n",
        "    punto_medio = (lim_inf + lim_sup) / 2\n",
        "    integral = (lim_sup - lim_inf) / 6 * (func(lim_inf) + 4 * func(punto_medio) + func(lim_sup))\n",
        "    return integral\n",
        "\n",
        "lim_inf = 0\n",
        "lim_sup = 3\n",
        "n_intv = 6\n",
        "ancho_intv = (lim_sup - lim_inf) / n_intv\n",
        "area_total = 0\n",
        "\n",
        "x_actual = lim_inf\n",
        "for _ in range(n_intv):\n",
        "    x_siguiente = x_actual + ancho_intv\n",
        "    area_trap = regla_simpson(func, x_actual, x_siguiente)\n",
        "    area_total += area_trap\n",
        "    x_actual = x_siguiente\n",
        "print(\"El área aproximada es:\", area_total)\n"
      ],
      "metadata": {
        "colab": {
          "base_uri": "https://localhost:8080/"
        },
        "id": "1Pk3oss2jnqC",
        "outputId": "9ced3bad-9bc8-4f8d-f8e3-e4f4c7753735"
      },
      "execution_count": 10,
      "outputs": [
        {
          "output_type": "stream",
          "name": "stdout",
          "text": [
            "El área aproximada es: 18.334300912085787\n"
          ]
        }
      ]
    },
    {
      "cell_type": "code",
      "source": [
        "#2. calculo simpson para quince particiones\n",
        "import math\n",
        "def func(x):\n",
        "    return ((math.exp(x) ** 2) * (math.sin(x))) / (1 + x ** 2)\n",
        "\n",
        "def regla_simpson(func, lim_inf, lim_sup):\n",
        "    punto_medio = (lim_inf + lim_sup) / 2\n",
        "    integral = (lim_sup - lim_inf) / 6 * (func(lim_inf) + 4 * func(punto_medio) + func(lim_sup))\n",
        "    return integral\n",
        "\n",
        "lim_inf = 0\n",
        "lim_sup = 3\n",
        "n_intv = 15\n",
        "ancho_intv = (lim_sup - lim_inf) / n_intv\n",
        "area_total = 0\n",
        "\n",
        "x_actual = lim_inf\n",
        "for _ in range(n_intv):\n",
        "    x_siguiente = x_actual + ancho_intv\n",
        "    area_trap = regla_simpson(func, x_actual, x_siguiente)\n",
        "    area_total += area_trap\n",
        "    x_actual = x_siguiente\n",
        "print(\"El área aproximada es:\", area_total)\n"
      ],
      "metadata": {
        "colab": {
          "base_uri": "https://localhost:8080/"
        },
        "id": "u8aETy25kfsK",
        "outputId": "137832b4-04b5-4095-9e41-312ad7d6c149"
      },
      "execution_count": 14,
      "outputs": [
        {
          "output_type": "stream",
          "name": "stdout",
          "text": [
            "El área aproximada es: 18.338984697036814\n"
          ]
        }
      ]
    },
    {
      "cell_type": "code",
      "source": [
        "#2. calculo simpson para veinte particiones\n",
        "import math\n",
        "def func(x):\n",
        "    return ((math.exp(x) ** 2) * (math.sin(x))) / (1 + x ** 2)\n",
        "\n",
        "def regla_simpson(func, lim_inf, lim_sup):\n",
        "    punto_medio = (lim_inf + lim_sup) / 2\n",
        "    integral = (lim_sup - lim_inf) / 6 * (func(lim_inf) + 4 * func(punto_medio) + func(lim_sup))\n",
        "    return integral\n",
        "\n",
        "lim_inf = 0\n",
        "lim_sup = 3\n",
        "n_intv = 20\n",
        "ancho_intv = (lim_sup - lim_inf) / n_intv\n",
        "area_total = 0\n",
        "\n",
        "x_actual = lim_inf\n",
        "for _ in range(n_intv):\n",
        "    x_siguiente = x_actual + ancho_intv\n",
        "    area_trap = regla_simpson(func, x_actual, x_siguiente)\n",
        "    area_total += area_trap\n",
        "    x_actual = x_siguiente\n",
        "print(\"El área aproximada es:\", area_total)"
      ],
      "metadata": {
        "colab": {
          "base_uri": "https://localhost:8080/"
        },
        "id": "o3CSP5tPlfJk",
        "outputId": "de7fbdd0-77d5-413d-aef9-06a0dd89cec4"
      },
      "execution_count": 19,
      "outputs": [
        {
          "output_type": "stream",
          "name": "stdout",
          "text": [
            "El área aproximada es: 18.339069574514035\n"
          ]
        }
      ]
    },
    {
      "cell_type": "code",
      "source": [
        "#3. Calculo trapecio para 6 particiones\n",
        "import math\n",
        "\n",
        "def f(x):\n",
        "    return ((math.exp(x)**2)*(math.sin(x)))/(1 + (x)**2)\n",
        "\n",
        "n = 6\n",
        "a = -2\n",
        "b = 0\n",
        "dx = (b - a) / n\n",
        "s = 0\n",
        "for i in range(n):\n",
        "    a_s = f(a) + f(a + dx)\n",
        "    a_r = a_s * dx / 2\n",
        "    s += a_r\n",
        "    a += dx\n",
        "\n",
        "print(\"El área aproximada es:\", s)\n"
      ],
      "metadata": {
        "colab": {
          "base_uri": "https://localhost:8080/"
        },
        "id": "g1fWGLhWoyBp",
        "outputId": "10dd01d4-37c9-4d1a-9137-e76384a831c1"
      },
      "execution_count": 25,
      "outputs": [
        {
          "output_type": "stream",
          "name": "stdout",
          "text": [
            "El área es: -0.11878425729982989\n"
          ]
        }
      ]
    },
    {
      "cell_type": "code",
      "source": [
        "#3. Calculo trapecio para 15 particiones\n",
        "import math\n",
        "\n",
        "def f(x):\n",
        "    return ((math.exp(x)**2)*(math.sin(x)))/(1 + (x)**2)\n",
        "\n",
        "n = 15\n",
        "a = -2\n",
        "b = 0\n",
        "dx = (b - a) / n\n",
        "s = 0\n",
        "for i in range(n):\n",
        "    a_s = f(a) + f(a + dx)\n",
        "    a_r = a_s * dx / 2\n",
        "    s += a_r\n",
        "    a += dx\n",
        "\n",
        "print(\"El área aproximada es:\", s)\n"
      ],
      "metadata": {
        "colab": {
          "base_uri": "https://localhost:8080/"
        },
        "id": "rrGmBK8dpSdl",
        "outputId": "dc5233c4-06fc-4b1b-f7c2-1a667a103c01"
      },
      "execution_count": 24,
      "outputs": [
        {
          "output_type": "stream",
          "name": "stdout",
          "text": [
            "El área es: -0.12655835486610015\n"
          ]
        }
      ]
    },
    {
      "cell_type": "code",
      "source": [
        "#3. Calculo trapecio para 20 particiones\n",
        "import math\n",
        "\n",
        "def f(x):\n",
        "    return ((math.exp(x)**2)*(math.sin(x)))/(1 + (x)**2)\n",
        "\n",
        "n = 20\n",
        "a = -2\n",
        "b = 0\n",
        "dx = (b - a) / n\n",
        "s = 0\n",
        "for i in range(n):\n",
        "    a_s = f(a) + f(a + dx)\n",
        "    a_r = a_s * dx / 2\n",
        "    s += a_r\n",
        "    a += dx\n",
        "\n",
        "print(\"El área aproximada es:\", s)\n"
      ],
      "metadata": {
        "colab": {
          "base_uri": "https://localhost:8080/"
        },
        "id": "_QJePTrCpimQ",
        "outputId": "a9336872-31c2-4838-ec36-7ad1cd449628"
      },
      "execution_count": 26,
      "outputs": [
        {
          "output_type": "stream",
          "name": "stdout",
          "text": [
            "El área es: -0.12721200023934953\n"
          ]
        }
      ]
    },
    {
      "cell_type": "code",
      "source": [
        "#3. Calculo simpson para seis particiones\n",
        "import math\n",
        "\n",
        "def f(x):\n",
        "    return ((math.exp(x)**2)*(math.sin(x)))/(1 + (x)**2)\n",
        "\n",
        "n = 6\n",
        "a = -2\n",
        "b = 0\n",
        "dx = (b - a) / n\n",
        "s = 0\n",
        "for i in range(n):\n",
        "    a_s = f(a) + f(a + dx)\n",
        "    a_r = a_s * dx / 2\n",
        "    s += a_r\n",
        "    a += dx\n",
        "\n",
        "print(\"El área aproximada es:\", s)"
      ],
      "metadata": {
        "colab": {
          "base_uri": "https://localhost:8080/"
        },
        "id": "qBQYx8uUptkQ",
        "outputId": "231cd7a1-90fd-439d-8152-3e94b4af0c06"
      },
      "execution_count": 35,
      "outputs": [
        {
          "output_type": "stream",
          "name": "stdout",
          "text": [
            "El área aproximada es: -0.11878425729982989\n"
          ]
        }
      ]
    },
    {
      "cell_type": "code",
      "source": [
        "#3. Calculo simpson para quince particiones\n",
        "import math\n",
        "\n",
        "def f(x):\n",
        "    return ((math.exp(x)**2)*(math.sin(x)))/(1 + (x)**2)\n",
        "\n",
        "n = 15\n",
        "a = -2\n",
        "b = 0\n",
        "dx = (b - a) / n\n",
        "s = 0\n",
        "for i in range(n):\n",
        "    a_s = f(a) + f(a + dx)\n",
        "    a_r = a_s * dx / 2\n",
        "    s += a_r\n",
        "    a += dx\n",
        "\n",
        "print(\"El área aproximada es:\", s)"
      ],
      "metadata": {
        "colab": {
          "base_uri": "https://localhost:8080/"
        },
        "id": "YgEbfYYJqBCc",
        "outputId": "b1e8ab8c-7667-484e-a844-f40a76e40a3f"
      },
      "execution_count": 28,
      "outputs": [
        {
          "output_type": "stream",
          "name": "stdout",
          "text": [
            "El área aproximada es: -0.12655835486610015\n"
          ]
        }
      ]
    },
    {
      "cell_type": "code",
      "source": [
        "#3. Calculo simpson para veinte particiones\n",
        "import math\n",
        "\n",
        "def f(x):\n",
        "    return ((math.exp(x)**2)*(math.sin(x)))/(1 + (x)**2)\n",
        "\n",
        "n = 20\n",
        "a = -2\n",
        "b = 0\n",
        "dx = (b - a) / n\n",
        "s = 0\n",
        "for i in range(n):\n",
        "    a_s = f(a) + f(a + dx)\n",
        "    a_r = a_s * dx / 2\n",
        "    s += a_r\n",
        "    a += dx\n",
        "\n",
        "print(\"El área aproximada es:\", s)"
      ],
      "metadata": {
        "colab": {
          "base_uri": "https://localhost:8080/"
        },
        "id": "m57LOnVPqBPj",
        "outputId": "f94d85db-ecf2-40d8-e73e-13bbbcf05b6b"
      },
      "execution_count": 29,
      "outputs": [
        {
          "output_type": "stream",
          "name": "stdout",
          "text": [
            "El área aproximada es: -0.12721200023934953\n"
          ]
        }
      ]
    },
    {
      "cell_type": "code",
      "source": [
        "#4. Calculo trapecio para 4 particiones\n",
        "import math\n",
        "\n",
        "def f(x):\n",
        "    return (math.exp(x) / x)\n",
        "\n",
        "n = 4\n",
        "a = 0.000000000001\n",
        "b = 5\n",
        "dx = (b - a) / n\n",
        "s = 0\n",
        "for i in range(n):\n",
        "    a_s = f(a) + f(a + dx)\n",
        "    a_r = a_s * dx / 2\n",
        "    s += a_r\n",
        "    a += dx\n",
        "\n",
        "print(\"El área aproximada es:\", s)\n"
      ],
      "metadata": {
        "colab": {
          "base_uri": "https://localhost:8080/"
        },
        "id": "KdrhtqC0qh2I",
        "outputId": "3925ac13-5a52-4fa2-8d1a-96efe463be9f"
      },
      "execution_count": 30,
      "outputs": [
        {
          "output_type": "stream",
          "name": "stdout",
          "text": [
            "El área aproximada es: 625000000042.807\n"
          ]
        }
      ]
    },
    {
      "cell_type": "code",
      "source": [
        "#4. Calculo trapecio para 30 particiones\n",
        "import math\n",
        "\n",
        "def f(x):\n",
        "    return (math.exp(x) / x)\n",
        "\n",
        "n = 30\n",
        "a = 0.000000000001\n",
        "b = 5\n",
        "dx = (b - a) / n\n",
        "s = 0\n",
        "for i in range(n):\n",
        "    a_s = f(a) + f(a + dx)\n",
        "    a_r = a_s * dx / 2\n",
        "    s += a_r\n",
        "    a += dx\n",
        "\n",
        "print(\"El área aproximada es:\", s)\n"
      ],
      "metadata": {
        "colab": {
          "base_uri": "https://localhost:8080/"
        },
        "id": "2JfzMJ0LqnlJ",
        "outputId": "004a1a16-4984-4a05-8d3e-76281b7feac3"
      },
      "execution_count": 33,
      "outputs": [
        {
          "output_type": "stream",
          "name": "stdout",
          "text": [
            "El área aproximada es: 83333333375.3475\n"
          ]
        }
      ]
    }
  ]
}