{
  "nbformat": 4,
  "nbformat_minor": 0,
  "metadata": {
    "colab": {
      "provenance": [],
      "authorship_tag": "ABX9TyMQFxsEsq13wsjpYmDIFbDc",
      "include_colab_link": true
    },
    "kernelspec": {
      "name": "python3",
      "display_name": "Python 3"
    },
    "language_info": {
      "name": "python"
    }
  },
  "cells": [
    {
      "cell_type": "markdown",
      "metadata": {
        "id": "view-in-github",
        "colab_type": "text"
      },
      "source": [
        "<a href=\"https://colab.research.google.com/github/SamuelMorales2002/SSF-Oto24SamuelMorales/blob/main/Tarea3.ipynb\" target=\"_parent\"><img src=\"https://colab.research.google.com/assets/colab-badge.svg\" alt=\"Open In Colab\"/></a>"
      ]
    },
    {
      "cell_type": "markdown",
      "source": [
        "Integración Numerica 2B"
      ],
      "metadata": {
        "id": "po0UT1QvyUkx"
      }
    },
    {
      "cell_type": "code",
      "execution_count": 1,
      "metadata": {
        "colab": {
          "base_uri": "https://localhost:8080/"
        },
        "id": "nNF00L7sxRbH",
        "outputId": "14653536-03e3-4d75-9fc7-1b2a4d9171a4"
      },
      "outputs": [
        {
          "output_type": "stream",
          "name": "stdout",
          "text": [
            "El valor de la integral es: 32.90525553101446\n",
            "El error estimado es: 3.064872265960067e-11\n"
          ]
        }
      ],
      "source": [
        "#Inciso a)Intervalo [0, 2]\n",
        "from scipy.integrate import quad\n",
        "import numpy as np\n",
        "\n",
        "fun = lambda x: (np.exp(x**2)) * 2\n",
        "resultado, error = quad(fun, 0, 2)\n",
        "\n",
        "print(\"El valor de la integral es:\", resultado)\n",
        "print(\"El error estimado es:\", error)\n"
      ]
    },
    {
      "cell_type": "code",
      "source": [
        "#Inciso a) intervalo [0, 2]\n",
        "from scipy.integrate import quad\n",
        "import numpy as np\n",
        "\n",
        "fun = lambda x: (np.exp(x**2)) * 2\n",
        "resultado, error = quad(fun, 0, 3)\n",
        "\n",
        "print(\"El valor de la integral es:\", resultado)\n",
        "print(\"El error estimado es:\", error)\n"
      ],
      "metadata": {
        "colab": {
          "base_uri": "https://localhost:8080/"
        },
        "id": "RsftVY9VzU4d",
        "outputId": "737b2d6b-60db-43b0-ba2e-d42a17a4f735"
      },
      "execution_count": 2,
      "outputs": [
        {
          "output_type": "stream",
          "name": "stdout",
          "text": [
            "El valor de la integral es: 2889.0902457854268\n",
            "El error estimado es: 1.4228746781069085e-09\n"
          ]
        }
      ]
    },
    {
      "cell_type": "code",
      "source": [
        "#Inciso a)Regla del Trapecio con 200 intervalos, en [0,1]\n",
        "import math\n",
        "\n",
        "def f(x):\n",
        "    return (math.exp(x**2)) * 2\n",
        "\n",
        "n = 200\n",
        "a = 0\n",
        "b = 2\n",
        "dx = (b - a) / n\n",
        "s = 0\n",
        "for i in range(n):\n",
        "    a_s = f(a) + f(a + dx)\n",
        "    a_r = a_s * dx / 2\n",
        "    s += a_r\n",
        "    a += dx\n",
        "\n",
        "print(\"El área es:\", s)\n"
      ],
      "metadata": {
        "colab": {
          "base_uri": "https://localhost:8080/"
        },
        "id": "Ka9LttfZzl5u",
        "outputId": "eedaf886-2544-401b-8214-a476679ea743"
      },
      "execution_count": 4,
      "outputs": [
        {
          "output_type": "stream",
          "name": "stdout",
          "text": [
            "El área es: 32.90889527423052\n"
          ]
        }
      ]
    },
    {
      "cell_type": "code",
      "source": [
        "#Inciso a)Regla del Trapecio con 100000 intervalos, en [0,3]\n",
        "import math\n",
        "\n",
        "def f(x):\n",
        "    return (math.exp(x**2)) * 2\n",
        "\n",
        "n = 100000\n",
        "a = 0\n",
        "b = 3\n",
        "dx = (b - a) / n\n",
        "s = 0\n",
        "for i in range(n):\n",
        "    a_s = f(a) + f(a + dx)\n",
        "    a_r = a_s * dx / 2\n",
        "    s += a_r\n",
        "    a += dx\n",
        "\n",
        "print(\"El área es:\", s)\n"
      ],
      "metadata": {
        "colab": {
          "base_uri": "https://localhost:8080/"
        },
        "id": "VPXRBvmdzyMi",
        "outputId": "90ce3d71-f153-467d-f619-4e170fa5ecc7"
      },
      "execution_count": 5,
      "outputs": [
        {
          "output_type": "stream",
          "name": "stdout",
          "text": [
            "El área es: 2889.090253141827\n"
          ]
        }
      ]
    },
    {
      "cell_type": "code",
      "source": [
        "#Inciso b) Integrando con scipy\n",
        "from scipy.integrate import quad\n",
        "import numpy as np\n",
        "\n",
        "fun = lambda x: (1 / ((np.sqrt(x)) * ((np.exp(x)) + 1)))\n",
        "resultado, error = quad(fun, 0, 1, epsabs=1e-12)\n",
        "\n",
        "print(\"El valor de la integral es:\", resultado)\n",
        "print(\"El error estimado es:\", error)\n"
      ],
      "metadata": {
        "colab": {
          "base_uri": "https://localhost:8080/"
        },
        "id": "jiR33NXD0S-D",
        "outputId": "0da1732c-4476-4617-b7d2-4bda6e29a0da"
      },
      "execution_count": 7,
      "outputs": [
        {
          "output_type": "stream",
          "name": "stdout",
          "text": [
            "El valor de la integral es: 0.8389329600133858\n",
            "El error estimado es: 2.0727863869751673e-13\n"
          ]
        }
      ]
    },
    {
      "cell_type": "code",
      "source": [
        "# Inciso b) Integrando con Regla del Trapecio para 50 intervalos\n",
        "import numpy as np\n",
        "\n",
        "def f(x):\n",
        "    return (1 / ((np.sqrt(x)) * ((np.exp(x)) + 1)))\n",
        "\n",
        "n = 50\n",
        "a = 0.001\n",
        "b = 1\n",
        "dx = (b - a) / n\n",
        "s = 0\n",
        "for i in range(n):\n",
        "    a_s = f(a) + f(a + dx)\n",
        "    a_r = a_s * dx / 2\n",
        "    s += a_r\n",
        "    a += dx\n",
        "\n",
        "print(\"El área es:\", s)\n"
      ],
      "metadata": {
        "colab": {
          "base_uri": "https://localhost:8080/"
        },
        "id": "Dh7-iJ970iXR",
        "outputId": "35c12f8f-e2c7-4c85-fd30-d5cbe05d0eaf"
      },
      "execution_count": 8,
      "outputs": [
        {
          "output_type": "stream",
          "name": "stdout",
          "text": [
            "El área es: 0.8892265580046664\n"
          ]
        }
      ]
    },
    {
      "cell_type": "code",
      "source": [
        "#Inciso c) Integrando con scipy\n",
        "from scipy.integrate import quad\n",
        "import numpy as np\n",
        "\n",
        "fun = lambda x: (1 / ((np.sqrt(x)) * ((np.exp(x)) + 1)))\n",
        "resultado, error = quad(fun, 0, 1, epsabs=1e-12)\n",
        "\n",
        "print(\"El valor de la integral es:\", resultado)\n",
        "print(\"El error estimado es:\", error)\n"
      ],
      "metadata": {
        "colab": {
          "base_uri": "https://localhost:8080/"
        },
        "id": "SdI_NbXP05PK",
        "outputId": "50a0ed01-d519-420d-8759-82c8c2277e33"
      },
      "execution_count": 9,
      "outputs": [
        {
          "output_type": "stream",
          "name": "stdout",
          "text": [
            "El valor de la integral es: 0.8389329600133858\n",
            "El error estimado es: 2.0727863869751673e-13\n"
          ]
        }
      ]
    },
    {
      "cell_type": "code",
      "source": [
        "# Inciso c) Integrando con Regla del Trapecio para 50 intervalos\n",
        "import math\n",
        "\n",
        "def f(x):\n",
        "    return (x**7) * math.cos(x)\n",
        "\n",
        "n = 50\n",
        "a = 0.001\n",
        "b = 1\n",
        "dx = (b - a) / n\n",
        "s = 0\n",
        "for i in range(n):\n",
        "    a_s = f(a) + f(a + dx)\n",
        "    a_r = a_s * dx / 2\n",
        "    s += a_r\n",
        "    a += dx\n",
        "\n",
        "print(\"El área es:\", s)\n"
      ],
      "metadata": {
        "id": "x20YhJ6R1BFN"
      },
      "execution_count": null,
      "outputs": []
    }
  ]
}