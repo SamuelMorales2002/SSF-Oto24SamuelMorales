{
  "nbformat": 4,
  "nbformat_minor": 0,
  "metadata": {
    "colab": {
      "provenance": [],
      "authorship_tag": "ABX9TyPuCFHnny9Pn9aw3UxfWXvL",
      "include_colab_link": true
    },
    "kernelspec": {
      "name": "python3",
      "display_name": "Python 3"
    },
    "language_info": {
      "name": "python"
    }
  },
  "cells": [
    {
      "cell_type": "markdown",
      "metadata": {
        "id": "view-in-github",
        "colab_type": "text"
      },
      "source": [
        "<a href=\"https://colab.research.google.com/github/SamuelMorales2002/SSF-Oto24SamuelMorales/blob/main/Tarea1A.ipynb\" target=\"_parent\"><img src=\"https://colab.research.google.com/assets/colab-badge.svg\" alt=\"Open In Colab\"/></a>"
      ]
    },
    {
      "cell_type": "code",
      "execution_count": null,
      "metadata": {
        "colab": {
          "base_uri": "https://localhost:8080/"
        },
        "id": "UuA18CP25WEi",
        "outputId": "f748394d-6dde-468f-e9d3-2293287a6453"
      },
      "outputs": [
        {
          "output_type": "stream",
          "name": "stdout",
          "text": [
            "2687\n"
          ]
        }
      ],
      "source": [
        "#Ejemplo 1 para calculo de polinomios por separado\n",
        "def poly_naive(A, x):\n",
        "    pl = 0\n",
        "    for i, a in enumerate(A):\n",
        "        pl += (x ** i) * a\n",
        "    return pl\n",
        "print(poly_naive((47,-4,12),15))"
      ]
    },
    {
      "cell_type": "code",
      "source": [
        "#Ejemplo 2 para calculo de polinomios por separado\n",
        "def poly_naive(A, x):\n",
        "    pl = 5\n",
        "    for i, a in enumerate(A):\n",
        "        pl += (x ** i) * a\n",
        "    return pl\n",
        "print(poly_naive((3,2,13,-3),2))"
      ],
      "metadata": {
        "colab": {
          "base_uri": "https://localhost:8080/"
        },
        "id": "e4E6WR0hd_5R",
        "outputId": "19a41713-f0aa-4731-ac0c-1caf6bc00b3e"
      },
      "execution_count": null,
      "outputs": [
        {
          "output_type": "stream",
          "name": "stdout",
          "text": [
            "40\n"
          ]
        }
      ]
    },
    {
      "cell_type": "code",
      "source": [
        "#Ejemplo 1 para calculo de polinomios por iteracion\n",
        "def poly_iter(A, x):\n",
        "    pl = 0\n",
        "    xn = 1\n",
        "    for a in A:\n",
        "        pl += xn * a\n",
        "        xn *= x\n",
        "    return pl\n",
        "print(poly_iter((47,-4,12),15))\n"
      ],
      "metadata": {
        "colab": {
          "base_uri": "https://localhost:8080/"
        },
        "id": "nEr8MQLafGiW",
        "outputId": "eb179180-2be6-416a-9932-165b466ffc60"
      },
      "execution_count": null,
      "outputs": [
        {
          "output_type": "stream",
          "name": "stdout",
          "text": [
            "2687\n"
          ]
        }
      ]
    },
    {
      "cell_type": "code",
      "source": [
        "#Ejemplo 2 para calculo de polinomios por iteracion\n",
        "def poly_iter(A, x):\n",
        "    pl = 5\n",
        "    xn = 1\n",
        "    for a in A:\n",
        "        pl += xn * a\n",
        "        xn *= x\n",
        "    return pl\n",
        "print(poly_iter((3,2,13,-3),2))\n"
      ],
      "metadata": {
        "colab": {
          "base_uri": "https://localhost:8080/"
        },
        "id": "OhBL1BsUfGsY",
        "outputId": "7410d1ba-57b9-4de9-adc3-41fe85d5267c"
      },
      "execution_count": null,
      "outputs": [
        {
          "output_type": "stream",
          "name": "stdout",
          "text": [
            "40\n"
          ]
        }
      ]
    },
    {
      "cell_type": "code",
      "source": [
        "#Ejemplo 1 por regla de Horner\n",
        "def poly_horner(A, x):\n",
        "    pl = A[-1]\n",
        "    i = len(A) - 2\n",
        "    while i >= 0:\n",
        "        pl = pl * x + A[i]\n",
        "        i -= 1\n",
        "    return pl\n",
        "print(poly_horner((47,-4,12),15))"
      ],
      "metadata": {
        "colab": {
          "base_uri": "https://localhost:8080/"
        },
        "id": "T9IQ0rE5gYa1",
        "outputId": "7cb7713b-1174-4ed2-8b9f-19d5eaa0b20a"
      },
      "execution_count": null,
      "outputs": [
        {
          "output_type": "stream",
          "name": "stdout",
          "text": [
            "2687\n"
          ]
        }
      ]
    },
    {
      "cell_type": "code",
      "source": [
        "#Ejemplo 2 por regla de Horner\n",
        "def poly_horner(A, x):\n",
        "    pl = A[-1]\n",
        "    i = len(A) - 2\n",
        "    while i >= 0:\n",
        "        pl = pl * x + A[i]\n",
        "        i -= 1\n",
        "    return pl\n",
        "print(poly_horner((8,2,13,-3),2))"
      ],
      "metadata": {
        "colab": {
          "base_uri": "https://localhost:8080/"
        },
        "id": "br2_x_SrgYfI",
        "outputId": "f706f905-1fdc-4bd7-88fa-5fc3b9cbcf0f"
      },
      "execution_count": null,
      "outputs": [
        {
          "output_type": "stream",
          "name": "stdout",
          "text": [
            "40\n"
          ]
        }
      ]
    }
  ]
}