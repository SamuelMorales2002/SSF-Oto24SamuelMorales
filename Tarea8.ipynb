{
  "nbformat": 4,
  "nbformat_minor": 0,
  "metadata": {
    "colab": {
      "provenance": [],
      "authorship_tag": "ABX9TyOBglHsSwq3BLwEtI53aGJz",
      "include_colab_link": true
    },
    "kernelspec": {
      "name": "python3",
      "display_name": "Python 3"
    },
    "language_info": {
      "name": "python"
    }
  },
  "cells": [
    {
      "cell_type": "markdown",
      "metadata": {
        "id": "view-in-github",
        "colab_type": "text"
      },
      "source": [
        "<a href=\"https://colab.research.google.com/github/SamuelMorales2002/SSF-Oto24SamuelMorales/blob/main/Tarea8.ipynb\" target=\"_parent\"><img src=\"https://colab.research.google.com/assets/colab-badge.svg\" alt=\"Open In Colab\"/></a>"
      ]
    },
    {
      "cell_type": "code",
      "source": [
        "import random\n",
        "\n",
        "def probabilidad_mujeres(total_alumnos, num_mujeres, num_seleccionados):\n",
        "    probabilidad = 1.0\n",
        "    for i in range(num_seleccionados):\n",
        "        probabilidad *= (num_mujeres - i) / (total_alumnos - i)\n",
        "    return probabilidad\n",
        "\n",
        "total_alumnos = 40\n",
        "num_mujeres = 9\n",
        "num_seleccionados = 3\n",
        "\n",
        "probabilidad = probabilidad_mujeres(total_alumnos, num_mujeres, num_seleccionados)\n",
        "print(f\"La probabilidad de seleccionar 3 mujeres de un grupo de {total_alumnos} es: {probabilidad:.4f}\")\n",
        "\n",
        "def calificaciones_aleatorias(num_alumnos):\n",
        "    calificaciones = [random.randint(5, 10) for _ in range(num_alumnos)]\n",
        "    return calificaciones\n",
        "\n",
        "def calcular_estadisticas(calificaciones):\n",
        "    promedio = sum(calificaciones) / len(calificaciones)\n",
        "    varianza = sum([(x - promedio) ** 2 for x in calificaciones]) / len(calificaciones)\n",
        "    return promedio, varianza\n",
        "\n",
        "num_alumnos = 100\n",
        "calificaciones = calificaciones_aleatorias(num_alumnos)\n",
        "promedio, varianza = calcular_estadisticas(calificaciones)\n",
        "print(f\"\\nCurso 1:\\nPromedio: {promedio:.2f}\\nVarianza: {varianza:.2f}\")\n",
        "\n",
        "for i in range(10):\n",
        "    calificaciones = calificaciones_aleatorias(num_alumnos)\n",
        "    promedio, varianza = calcular_estadisticas(calificaciones)\n",
        "    print(f\"\\nCurso {i+2}:\\nPromedio: {promedio:.2f}\\nVarianza: {varianza:.2f}\")\n"
      ],
      "metadata": {
        "colab": {
          "base_uri": "https://localhost:8080/"
        },
        "id": "-_wCDIFzAqNu",
        "outputId": "96372122-bbda-43fd-dbf2-e0b6c4b35175"
      },
      "execution_count": 4,
      "outputs": [
        {
          "output_type": "stream",
          "name": "stdout",
          "text": [
            "La probabilidad de seleccionar 3 mujeres de un grupo de 40 es: 0.0085\n",
            "\n",
            "Curso 1:\n",
            "Promedio: 7.59\n",
            "Varianza: 3.04\n",
            "\n",
            "Curso 2:\n",
            "Promedio: 7.44\n",
            "Varianza: 2.71\n",
            "\n",
            "Curso 3:\n",
            "Promedio: 7.45\n",
            "Varianza: 2.69\n",
            "\n",
            "Curso 4:\n",
            "Promedio: 7.55\n",
            "Varianza: 2.91\n",
            "\n",
            "Curso 5:\n",
            "Promedio: 7.50\n",
            "Varianza: 2.73\n",
            "\n",
            "Curso 6:\n",
            "Promedio: 7.45\n",
            "Varianza: 2.75\n",
            "\n",
            "Curso 7:\n",
            "Promedio: 7.54\n",
            "Varianza: 3.23\n",
            "\n",
            "Curso 8:\n",
            "Promedio: 7.53\n",
            "Varianza: 3.09\n",
            "\n",
            "Curso 9:\n",
            "Promedio: 7.37\n",
            "Varianza: 2.75\n",
            "\n",
            "Curso 10:\n",
            "Promedio: 7.68\n",
            "Varianza: 2.92\n",
            "\n",
            "Curso 11:\n",
            "Promedio: 7.64\n",
            "Varianza: 3.19\n"
          ]
        }
      ]
    }
  ]
}